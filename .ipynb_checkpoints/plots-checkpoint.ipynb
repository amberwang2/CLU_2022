{
 "cells": [
  {
   "cell_type": "code",
   "execution_count": 2,
   "id": "af8a1615",
   "metadata": {
    "scrolled": true
   },
   "outputs": [],
   "source": [
    "import numpy as np\n",
    "import os, sys, math, pdb, glob, time, fnmatch, datetime\n",
    "from astropy.table import Table, vstack, hstack, Column, unique, join\n",
    "\n",
    "def stop(): pdb.set_trace()\n",
    "\n",
    "cat=Table.read('CatVisClass_AmberW_20220719.fits')\n"
   ]
  },
  {
   "cell_type": "code",
   "execution_count": 3,
   "id": "1f27b61d",
   "metadata": {
    "scrolled": true
   },
   "outputs": [
    {
     "name": "stdout",
     "output_type": "stream",
     "text": [
      "  objid          ra               dec        ...  zphoterr  visclass1\n",
      "--------- ---------------- ----------------- ... ---------- ---------\n",
      " 96779812 9.39907076145174 0.280796771579759 ...   0.014018         1\n",
      "116336777 7.57860095355787  4.18118656749963 ...   0.014018         1\n",
      "111926761 7.73183384849052  3.51634213541818 ...   0.014018         1\n",
      " 96782554 9.09170748419273 0.562168837963449 ...   0.014018         1\n",
      "101515980  7.5357296875451  1.40929898214212 ... 0.00580527         1\n",
      "111423945 5.19715191129701  3.98667284719778 ... 0.00580527         1\n",
      "116335134 9.61372713266692  4.04166334876767 ...   0.011961         1\n",
      " 96899021 0.58851683444832 0.937212214652352 ...  0.0139723         3\n",
      "101518934 7.34061417524348  1.78037691424997 ... 0.00580527         1\n",
      "101513848  6.8967700727345  1.16721684500626 ... 0.00580527         1\n",
      "      ...              ...               ... ...        ...       ...\n",
      "137894301 29.2051331220688  8.82121187313044 ...   0.011961         2\n",
      "121590971 29.6950542393188  5.78914104143646 ...  0.0139723         1\n",
      "121089878 27.2926528806982  5.64023939282236 ...   0.011961         1\n",
      "121086769 25.0748536435709  5.44296151872515 ... 0.00580527         2\n",
      "137894349 29.1949302387152  8.82578632590449 ...   0.011961         2\n",
      "140711719 27.6098492630031  9.33437485681315 ...   0.014018         1\n",
      "125840639  29.751267635382  6.52272971870399 ... 0.00580527         1\n",
      "135680145 25.1901159800814   8.7453994869044 ...   0.014018         3\n",
      "121090967 26.1933368247432  5.71296836585887 ...   0.014018         1\n",
      "140929480  84.593008521425  9.91354090296671 ...   0.014018         3\n",
      "140453019 19.8440299262169  9.88436282273189 ...   0.011961         2\n",
      "Length = 931 rows\n"
     ]
    }
   ],
   "source": [
    "print(cat['objid','ra','dec', 'galb', 'candfilt','csig1', 'csig2', 'csig3', 'csig4', 'maxcsig', 'zphot', 'zphoterr','visclass1'])\n"
   ]
  }
 ],
 "metadata": {
  "kernelspec": {
   "display_name": "Python 3 (ipykernel)",
   "language": "python",
   "name": "python3"
  },
  "language_info": {
   "codemirror_mode": {
    "name": "ipython",
    "version": 3
   },
   "file_extension": ".py",
   "mimetype": "text/x-python",
   "name": "python",
   "nbconvert_exporter": "python",
   "pygments_lexer": "ipython3",
   "version": "3.8.2"
  },
  "vscode": {
   "interpreter": {
    "hash": "9650cb4e16cdd4a8e8e2d128bf38d875813998db22a3c986335f89e0cb4d7bb2"
   }
  }
 },
 "nbformat": 4,
 "nbformat_minor": 5
}
