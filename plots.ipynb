{
 "cells": [
  {
   "cell_type": "code",
   "execution_count": 2,
   "id": "af8a1615",
   "metadata": {},
   "outputs": [],
   "source": [
    "import numpy as np\n",
    "import os, sys, math, pdb, glob, time, fnmatch, datetime\n",
    "from astropy.table import Table, vstack, hstack, Column, unique, join\n",
    "\n",
    "def stop(): pdb.set_trace()\n",
    "\n",
    "cat=Table.read('CatVisClass_AmberW_20220719.fits')\n"
   ]
  },
  {
   "cell_type": "code",
   "execution_count": 3,
   "id": "1f27b61d",
   "metadata": {},
   "outputs": [
    {
     "name": "stdout",
     "output_type": "stream",
     "text": [
      "['a_ellipse_ha1', 'a_ellipse_ha2', 'a_ellipse_ha3', 'a_ellipse_ha4', 'b_ellipse_ha1', 'b_ellipse_ha2', 'b_ellipse_ha3', 'b_ellipse_ha4', 'bcd', 'candfilt', 'ci_ha1', 'ci_ha2', 'ci_ha3', 'ci_ha4', 'ci_haon', 'ci_haonerr', 'cierr_ha1', 'cierr_ha2', 'cierr_ha3', 'cierr_ha4', 'csig1', 'csig2', 'csig3', 'csig4', 'dec', 'decerr', 'distmpc', 'distmpcerr', 'dlamoff', 'dlamon', 'eelgflag', 'eelgflag_al', 'eelgflag_decring', 'fup', 'fwhm_ha1', 'fwhm_ha2', 'fwhm_ha3', 'fwhm_ha4', 'gpea', 'hacontphot', 'hacontphoterr', 'haewphot', 'haewphoterr', 'hafluxphot', 'hafluxphoterr', 'haoffmag', 'haoffmagerr', 'haonmag', 'haonmagerr', 'hiireg', 'lamoff', 'lamon', 'mag_10px_ha1', 'mag_10px_ha2', 'mag_10px_ha3', 'mag_10px_ha4', 'mag_20px_ha1', 'mag_20px_ha2', 'mag_20px_ha3', 'mag_20px_ha4', 'mag_2px_ha1', 'mag_2px_ha2', 'mag_2px_ha3', 'mag_2px_ha4', 'mag_4px_ha1', 'mag_4px_ha2', 'mag_4px_ha3', 'mag_4px_ha4', 'mag_5px_ha1', 'mag_5px_ha2', 'mag_5px_ha3', 'mag_5px_ha4', 'mag_8px_ha1', 'mag_8px_ha2', 'mag_8px_ha3', 'mag_8px_ha4', 'mag_kron_ha1', 'mag_kron_ha2', 'mag_kron_ha3', 'mag_kron_ha4', 'mag_petro_ha1', 'mag_petro_ha2', 'mag_petro_ha3', 'mag_petro_ha4', 'mag_psf_ha1', 'mag_psf_ha2', 'mag_psf_ha3', 'mag_psf_ha4', 'magerr_10px_ha1', 'magerr_10px_ha2', 'magerr_10px_ha3', 'magerr_10px_ha4', 'magerr_20px_ha1', 'magerr_20px_ha2', 'magerr_20px_ha3', 'magerr_20px_ha4', 'magerr_2px_ha1', 'magerr_2px_ha2', 'magerr_2px_ha3', 'magerr_2px_ha4', 'magerr_4px_ha1', 'magerr_4px_ha2', 'magerr_4px_ha3', 'magerr_4px_ha4', 'magerr_5px_ha1', 'magerr_5px_ha2', 'magerr_5px_ha3', 'magerr_5px_ha4', 'magerr_8px_ha1', 'magerr_8px_ha2', 'magerr_8px_ha3', 'magerr_8px_ha4', 'magerr_kron_ha1', 'magerr_kron_ha2', 'magerr_kron_ha3', 'magerr_kron_ha4', 'magerr_petro_ha1', 'magerr_petro_ha2', 'magerr_petro_ha3', 'magerr_petro_ha4', 'magerr_psf_ha1', 'magerr_psf_ha2', 'magerr_psf_ha3', 'magerr_psf_ha4', 'maxcsig', 'nsrcs_all', 'nsrcs_ha1', 'nsrcs_ha2', 'nsrcs_ha3', 'nsrcs_ha4', 'objflag', 'objid', 'objid_ps1', 'observed', 'pa_ellipse_ha1', 'pa_ellipse_ha2', 'pa_ellipse_ha3', 'pa_ellipse_ha4', 'pneb', 'psfclass', 'qso', 'ra', 'raerr', 'rf_qflag', 'rf_score', 'rhalf_ha1', 'rhalf_ha2', 'rhalf_ha3', 'rhalf_ha4', 'rkron_ha1', 'rkron_ha2', 'rkron_ha3', 'rkron_ha4', 'rpetro_ha1', 'rpetro_ha2', 'rpetro_ha3', 'rpetro_ha4', 'seclass', 'seflag', 'srctable', 'stdsky_ha1', 'stdsky_ha2', 'stdsky_ha3', 'stdsky_ha4', 'stdstars1', 'stdstars2', 'stdstars3', 'stdstars4', 'uplimflag', 'visclass', 'zphot', 'zphoterr', 'galb', 'visclass1', 'visclass2']\n"
     ]
    }
   ],
   "source": [
    "print(cat.colnames)"
   ]
  }
 ],
 "metadata": {
  "kernelspec": {
   "display_name": "Python 3.8.2 64-bit",
   "language": "python",
   "name": "python3"
  },
  "language_info": {
   "codemirror_mode": {
    "name": "ipython",
    "version": 3
   },
   "file_extension": ".py",
   "mimetype": "text/x-python",
   "name": "python",
   "nbconvert_exporter": "python",
   "pygments_lexer": "ipython3",
   "version": "3.8.2"
  },
  "vscode": {
   "interpreter": {
    "hash": "9650cb4e16cdd4a8e8e2d128bf38d875813998db22a3c986335f89e0cb4d7bb2"
   }
  }
 },
 "nbformat": 4,
 "nbformat_minor": 5
}
